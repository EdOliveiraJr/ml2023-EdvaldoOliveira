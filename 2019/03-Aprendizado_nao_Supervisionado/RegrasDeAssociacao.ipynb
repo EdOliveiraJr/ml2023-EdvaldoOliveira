{
 "cells": [
  {
   "cell_type": "markdown",
   "metadata": {},
   "source": [
    "### Regras de Associação\n",
    "\n",
    "Regras de Associação identificam padrões comuns em itens de um grande conjunto de dados.Neste exercício, nós vamos analisar padrões de comportamento em uma plataforma de filmes (como o Netflix) onde as pessoas costumam assistir seus filmes e séries. Existem alguns padrões claros, como pessoas que gostam de super heróis ou aqueles que assistem a desenhos animados.\n",
    "\n",
    "Regras de Associação são geralmente escritas no formato: **{A} -> {B}**,  o que siginifica que existe uma forte relação entre os itens A e B. Por exemplo, uma possível regra válida para a plataforma de streams é **{Senhor dos Anéis} -> {O Hobbit}**. \n",
    "\n",
    "Se frequentemente uma pessoa que assiste a um filme também assiste a um outro, ou seja os filmes são asssitidos frequentemente juntos, então a plataforma de filmes poderia utilizar esse padrão para aumentar a visualização de alguns filmes, através de recomendações na plataforma.\n",
    "\n",
    "No exemplo acima, **{Senhor dos Anéis} -> {O Hobbit}**, {Senhor dos Anéis} é o **antecedente** e **{O Hobbit}** é o **cosequente**. Antecedentes e consequentes podem ter múltiplos itens, por exemplo um regra válida é **{Thor: Ragnarok, Vingadores: Guerra Infinita}->{Vingadores: Ultimato}**."
   ]
  },
  {
   "cell_type": "markdown",
   "metadata": {},
   "source": [
    "Por quê?\n",
    "Fácil de explicar para pessoas não-técnicas\n",
    "\n",
    "Sem necessidade de grande preparação dos dados e engenharia de features\n",
    "\n",
    "Bom início para explorar dados\n"
   ]
  },
  {
   "cell_type": "markdown",
   "metadata": {},
   "source": [
    "### Descrição  da atividade\n",
    "Nesta atividade nós utilizaremos regras de associação para analisar um dataset de transações onde cada transação é composta pelos filmes que um mesmo usuário de uma plataforma de filmes assisitu dentro de um intervalo de tempo."
   ]
  },
  {
   "cell_type": "markdown",
   "metadata": {},
   "source": [
    "### Passo 1) Leitura do dataset"
   ]
  },
  {
   "cell_type": "code",
   "execution_count": 25,
   "metadata": {},
   "outputs": [],
   "source": [
    "import pandas as pd\n",
    "from mlxtend.frequent_patterns import apriori\n",
    "from mlxtend.frequent_patterns import association_rules"
   ]
  },
  {
   "cell_type": "code",
   "execution_count": 26,
   "metadata": {},
   "outputs": [],
   "source": [
    "df = pd.read_csv('dataset_movies/movie_dataset.txt',header=None)"
   ]
  },
  {
   "cell_type": "code",
   "execution_count": 50,
   "metadata": {},
   "outputs": [
    {
     "data": {
      "text/html": [
       "<div>\n",
       "<style scoped>\n",
       "    .dataframe tbody tr th:only-of-type {\n",
       "        vertical-align: middle;\n",
       "    }\n",
       "\n",
       "    .dataframe tbody tr th {\n",
       "        vertical-align: top;\n",
       "    }\n",
       "\n",
       "    .dataframe thead th {\n",
       "        text-align: right;\n",
       "    }\n",
       "</style>\n",
       "<table border=\"1\" class=\"dataframe\">\n",
       "  <thead>\n",
       "    <tr style=\"text-align: right;\">\n",
       "      <th></th>\n",
       "      <th>0</th>\n",
       "      <th>1</th>\n",
       "      <th>2</th>\n",
       "      <th>3</th>\n",
       "      <th>4</th>\n",
       "      <th>5</th>\n",
       "      <th>6</th>\n",
       "      <th>7</th>\n",
       "      <th>8</th>\n",
       "      <th>9</th>\n",
       "      <th>10</th>\n",
       "      <th>11</th>\n",
       "      <th>12</th>\n",
       "      <th>13</th>\n",
       "      <th>14</th>\n",
       "      <th>15</th>\n",
       "      <th>16</th>\n",
       "      <th>17</th>\n",
       "      <th>18</th>\n",
       "      <th>19</th>\n",
       "    </tr>\n",
       "  </thead>\n",
       "  <tbody>\n",
       "    <tr>\n",
       "      <th>0</th>\n",
       "      <td>The Revenant</td>\n",
       "      <td>13 Hours</td>\n",
       "      <td>Allied</td>\n",
       "      <td>Zootopia</td>\n",
       "      <td>Jigsaw</td>\n",
       "      <td>Achorman</td>\n",
       "      <td>Grinch</td>\n",
       "      <td>Fast and Furious</td>\n",
       "      <td>Ghostbusters</td>\n",
       "      <td>Wolverine</td>\n",
       "      <td>Mad Max</td>\n",
       "      <td>John Wick</td>\n",
       "      <td>La La Land</td>\n",
       "      <td>The Good Dunosaur</td>\n",
       "      <td>Ninja Turtles</td>\n",
       "      <td>The Good Dunosaur Bad Moms</td>\n",
       "      <td>2 Guns</td>\n",
       "      <td>Inside Out</td>\n",
       "      <td>Valerian</td>\n",
       "      <td>Spiderman 3</td>\n",
       "    </tr>\n",
       "    <tr>\n",
       "      <th>1</th>\n",
       "      <td>Beirut</td>\n",
       "      <td>Martian</td>\n",
       "      <td>Get Out</td>\n",
       "      <td>NaN</td>\n",
       "      <td>NaN</td>\n",
       "      <td>NaN</td>\n",
       "      <td>NaN</td>\n",
       "      <td>NaN</td>\n",
       "      <td>NaN</td>\n",
       "      <td>NaN</td>\n",
       "      <td>NaN</td>\n",
       "      <td>NaN</td>\n",
       "      <td>NaN</td>\n",
       "      <td>NaN</td>\n",
       "      <td>NaN</td>\n",
       "      <td>NaN</td>\n",
       "      <td>NaN</td>\n",
       "      <td>NaN</td>\n",
       "      <td>NaN</td>\n",
       "      <td>NaN</td>\n",
       "    </tr>\n",
       "    <tr>\n",
       "      <th>2</th>\n",
       "      <td>Deadpool</td>\n",
       "      <td>NaN</td>\n",
       "      <td>NaN</td>\n",
       "      <td>NaN</td>\n",
       "      <td>NaN</td>\n",
       "      <td>NaN</td>\n",
       "      <td>NaN</td>\n",
       "      <td>NaN</td>\n",
       "      <td>NaN</td>\n",
       "      <td>NaN</td>\n",
       "      <td>NaN</td>\n",
       "      <td>NaN</td>\n",
       "      <td>NaN</td>\n",
       "      <td>NaN</td>\n",
       "      <td>NaN</td>\n",
       "      <td>NaN</td>\n",
       "      <td>NaN</td>\n",
       "      <td>NaN</td>\n",
       "      <td>NaN</td>\n",
       "      <td>NaN</td>\n",
       "    </tr>\n",
       "    <tr>\n",
       "      <th>3</th>\n",
       "      <td>X-Men</td>\n",
       "      <td>Allied</td>\n",
       "      <td>NaN</td>\n",
       "      <td>NaN</td>\n",
       "      <td>NaN</td>\n",
       "      <td>NaN</td>\n",
       "      <td>NaN</td>\n",
       "      <td>NaN</td>\n",
       "      <td>NaN</td>\n",
       "      <td>NaN</td>\n",
       "      <td>NaN</td>\n",
       "      <td>NaN</td>\n",
       "      <td>NaN</td>\n",
       "      <td>NaN</td>\n",
       "      <td>NaN</td>\n",
       "      <td>NaN</td>\n",
       "      <td>NaN</td>\n",
       "      <td>NaN</td>\n",
       "      <td>NaN</td>\n",
       "      <td>NaN</td>\n",
       "    </tr>\n",
       "    <tr>\n",
       "      <th>4</th>\n",
       "      <td>Ninja Turtles</td>\n",
       "      <td>Moana</td>\n",
       "      <td>Ghost in the Shell</td>\n",
       "      <td>Ralph Breaks the Internet</td>\n",
       "      <td>John Wick</td>\n",
       "      <td>NaN</td>\n",
       "      <td>NaN</td>\n",
       "      <td>NaN</td>\n",
       "      <td>NaN</td>\n",
       "      <td>NaN</td>\n",
       "      <td>NaN</td>\n",
       "      <td>NaN</td>\n",
       "      <td>NaN</td>\n",
       "      <td>NaN</td>\n",
       "      <td>NaN</td>\n",
       "      <td>NaN</td>\n",
       "      <td>NaN</td>\n",
       "      <td>NaN</td>\n",
       "      <td>NaN</td>\n",
       "      <td>NaN</td>\n",
       "    </tr>\n",
       "  </tbody>\n",
       "</table>\n",
       "</div>"
      ],
      "text/plain": [
       "              0         1                   2                          3   \\\n",
       "0   The Revenant  13 Hours              Allied                   Zootopia   \n",
       "1         Beirut   Martian             Get Out                        NaN   \n",
       "2       Deadpool       NaN                 NaN                        NaN   \n",
       "3          X-Men    Allied                 NaN                        NaN   \n",
       "4  Ninja Turtles     Moana  Ghost in the Shell  Ralph Breaks the Internet   \n",
       "\n",
       "          4         5       6                 7             8          9   \\\n",
       "0     Jigsaw  Achorman  Grinch  Fast and Furious  Ghostbusters  Wolverine   \n",
       "1        NaN       NaN     NaN               NaN           NaN        NaN   \n",
       "2        NaN       NaN     NaN               NaN           NaN        NaN   \n",
       "3        NaN       NaN     NaN               NaN           NaN        NaN   \n",
       "4  John Wick       NaN     NaN               NaN           NaN        NaN   \n",
       "\n",
       "        10         11          12                 13             14  \\\n",
       "0  Mad Max  John Wick  La La Land  The Good Dunosaur  Ninja Turtles   \n",
       "1      NaN        NaN         NaN                NaN            NaN   \n",
       "2      NaN        NaN         NaN                NaN            NaN   \n",
       "3      NaN        NaN         NaN                NaN            NaN   \n",
       "4      NaN        NaN         NaN                NaN            NaN   \n",
       "\n",
       "                           15      16          17        18           19  \n",
       "0  The Good Dunosaur Bad Moms  2 Guns  Inside Out  Valerian  Spiderman 3  \n",
       "1                         NaN     NaN         NaN       NaN          NaN  \n",
       "2                         NaN     NaN         NaN       NaN          NaN  \n",
       "3                         NaN     NaN         NaN       NaN          NaN  \n",
       "4                         NaN     NaN         NaN       NaN          NaN  "
      ]
     },
     "execution_count": 50,
     "metadata": {},
     "output_type": "execute_result"
    }
   ],
   "source": [
    "df.head()"
   ]
  },
  {
   "cell_type": "markdown",
   "metadata": {},
   "source": [
    "Cada linha do arquivo refere-se a um conjunto de filmes que um determinado usuário leu. Vamos considerar esse conjunto de filmes como sendo o conjunto de itens de uma transação.\n",
    "\n",
    "Entretanto, precisamos transforma os dados para deixá-lo num formato de um dataframe  onde cada coluna se refere a um filme e as linhas aos usuarios. Cada cálula contém 1 quando o usuário assitiu ao filme e 0 no caso contrário."
   ]
  },
  {
   "cell_type": "code",
   "execution_count": 41,
   "metadata": {},
   "outputs": [],
   "source": [
    "import numpy as np"
   ]
  },
  {
   "cell_type": "code",
   "execution_count": 54,
   "metadata": {},
   "outputs": [],
   "source": [
    "rows = df.shape[0]"
   ]
  },
  {
   "cell_type": "code",
   "execution_count": 103,
   "metadata": {},
   "outputs": [],
   "source": [
    "filmes = set()\n",
    "for i in range(rows):\n",
    "    filmes = filmes.union(set(df.iloc[i].unique()))\n"
   ]
  },
  {
   "cell_type": "code",
   "execution_count": 107,
   "metadata": {},
   "outputs": [
    {
     "data": {
      "text/plain": [
       "True"
      ]
     },
     "execution_count": 107,
     "metadata": {},
     "output_type": "execute_result"
    }
   ],
   "source": [
    "np.nan in filmes"
   ]
  },
  {
   "cell_type": "code",
   "execution_count": 108,
   "metadata": {},
   "outputs": [],
   "source": [
    "filmes.difference_update({np.nan})"
   ]
  },
  {
   "cell_type": "code",
   "execution_count": 132,
   "metadata": {},
   "outputs": [],
   "source": [
    "df_ = pd.DataFrame(columns=filmes,data=np.zeros((rows,len(filmes))))"
   ]
  },
  {
   "cell_type": "code",
   "execution_count": 116,
   "metadata": {},
   "outputs": [
    {
     "data": {
      "text/html": [
       "<div>\n",
       "<style scoped>\n",
       "    .dataframe tbody tr th:only-of-type {\n",
       "        vertical-align: middle;\n",
       "    }\n",
       "\n",
       "    .dataframe tbody tr th {\n",
       "        vertical-align: top;\n",
       "    }\n",
       "\n",
       "    .dataframe thead th {\n",
       "        text-align: right;\n",
       "    }\n",
       "</style>\n",
       "<table border=\"1\" class=\"dataframe\">\n",
       "  <thead>\n",
       "    <tr style=\"text-align: right;\">\n",
       "      <th></th>\n",
       "      <th>Ant Man</th>\n",
       "      <th>Mission Impossible</th>\n",
       "      <th>Spotlight</th>\n",
       "      <th>Justice League</th>\n",
       "      <th>The Revenant</th>\n",
       "      <th>Allied</th>\n",
       "      <th>Grinch</th>\n",
       "      <th>Wolverine</th>\n",
       "      <th>Captain America</th>\n",
       "      <th>Coco</th>\n",
       "      <th>...</th>\n",
       "      <th>Batman</th>\n",
       "      <th>Spiderman 3</th>\n",
       "      <th>Cinderella</th>\n",
       "      <th>John Wick</th>\n",
       "      <th>Vampire in Brooklyn</th>\n",
       "      <th>Hulk</th>\n",
       "      <th>The Good Dunosaur</th>\n",
       "      <th>Trolls</th>\n",
       "      <th>Intern</th>\n",
       "      <th>Star Trek</th>\n",
       "    </tr>\n",
       "  </thead>\n",
       "  <tbody>\n",
       "    <tr>\n",
       "      <th>0</th>\n",
       "      <td>0.0</td>\n",
       "      <td>0.0</td>\n",
       "      <td>0.0</td>\n",
       "      <td>0.0</td>\n",
       "      <td>0.0</td>\n",
       "      <td>0.0</td>\n",
       "      <td>0.0</td>\n",
       "      <td>0.0</td>\n",
       "      <td>0.0</td>\n",
       "      <td>0.0</td>\n",
       "      <td>...</td>\n",
       "      <td>0.0</td>\n",
       "      <td>0.0</td>\n",
       "      <td>0.0</td>\n",
       "      <td>0.0</td>\n",
       "      <td>0.0</td>\n",
       "      <td>0.0</td>\n",
       "      <td>0.0</td>\n",
       "      <td>0.0</td>\n",
       "      <td>0.0</td>\n",
       "      <td>0.0</td>\n",
       "    </tr>\n",
       "    <tr>\n",
       "      <th>1</th>\n",
       "      <td>0.0</td>\n",
       "      <td>0.0</td>\n",
       "      <td>0.0</td>\n",
       "      <td>0.0</td>\n",
       "      <td>0.0</td>\n",
       "      <td>0.0</td>\n",
       "      <td>0.0</td>\n",
       "      <td>0.0</td>\n",
       "      <td>0.0</td>\n",
       "      <td>0.0</td>\n",
       "      <td>...</td>\n",
       "      <td>0.0</td>\n",
       "      <td>0.0</td>\n",
       "      <td>0.0</td>\n",
       "      <td>0.0</td>\n",
       "      <td>0.0</td>\n",
       "      <td>0.0</td>\n",
       "      <td>0.0</td>\n",
       "      <td>0.0</td>\n",
       "      <td>0.0</td>\n",
       "      <td>0.0</td>\n",
       "    </tr>\n",
       "    <tr>\n",
       "      <th>2</th>\n",
       "      <td>0.0</td>\n",
       "      <td>0.0</td>\n",
       "      <td>0.0</td>\n",
       "      <td>0.0</td>\n",
       "      <td>0.0</td>\n",
       "      <td>0.0</td>\n",
       "      <td>0.0</td>\n",
       "      <td>0.0</td>\n",
       "      <td>0.0</td>\n",
       "      <td>0.0</td>\n",
       "      <td>...</td>\n",
       "      <td>0.0</td>\n",
       "      <td>0.0</td>\n",
       "      <td>0.0</td>\n",
       "      <td>0.0</td>\n",
       "      <td>0.0</td>\n",
       "      <td>0.0</td>\n",
       "      <td>0.0</td>\n",
       "      <td>0.0</td>\n",
       "      <td>0.0</td>\n",
       "      <td>0.0</td>\n",
       "    </tr>\n",
       "    <tr>\n",
       "      <th>3</th>\n",
       "      <td>0.0</td>\n",
       "      <td>0.0</td>\n",
       "      <td>0.0</td>\n",
       "      <td>0.0</td>\n",
       "      <td>0.0</td>\n",
       "      <td>0.0</td>\n",
       "      <td>0.0</td>\n",
       "      <td>0.0</td>\n",
       "      <td>0.0</td>\n",
       "      <td>0.0</td>\n",
       "      <td>...</td>\n",
       "      <td>0.0</td>\n",
       "      <td>0.0</td>\n",
       "      <td>0.0</td>\n",
       "      <td>0.0</td>\n",
       "      <td>0.0</td>\n",
       "      <td>0.0</td>\n",
       "      <td>0.0</td>\n",
       "      <td>0.0</td>\n",
       "      <td>0.0</td>\n",
       "      <td>0.0</td>\n",
       "    </tr>\n",
       "    <tr>\n",
       "      <th>4</th>\n",
       "      <td>0.0</td>\n",
       "      <td>0.0</td>\n",
       "      <td>0.0</td>\n",
       "      <td>0.0</td>\n",
       "      <td>0.0</td>\n",
       "      <td>0.0</td>\n",
       "      <td>0.0</td>\n",
       "      <td>0.0</td>\n",
       "      <td>0.0</td>\n",
       "      <td>0.0</td>\n",
       "      <td>...</td>\n",
       "      <td>0.0</td>\n",
       "      <td>0.0</td>\n",
       "      <td>0.0</td>\n",
       "      <td>0.0</td>\n",
       "      <td>0.0</td>\n",
       "      <td>0.0</td>\n",
       "      <td>0.0</td>\n",
       "      <td>0.0</td>\n",
       "      <td>0.0</td>\n",
       "      <td>0.0</td>\n",
       "    </tr>\n",
       "  </tbody>\n",
       "</table>\n",
       "<p>5 rows × 119 columns</p>\n",
       "</div>"
      ],
      "text/plain": [
       "   Ant Man  Mission Impossible  Spotlight  Justice League  The Revenant  \\\n",
       "0      0.0                 0.0        0.0             0.0           0.0   \n",
       "1      0.0                 0.0        0.0             0.0           0.0   \n",
       "2      0.0                 0.0        0.0             0.0           0.0   \n",
       "3      0.0                 0.0        0.0             0.0           0.0   \n",
       "4      0.0                 0.0        0.0             0.0           0.0   \n",
       "\n",
       "   Allied  Grinch  Wolverine  Captain America  Coco  ...  Batman  Spiderman 3  \\\n",
       "0     0.0     0.0        0.0              0.0   0.0  ...     0.0          0.0   \n",
       "1     0.0     0.0        0.0              0.0   0.0  ...     0.0          0.0   \n",
       "2     0.0     0.0        0.0              0.0   0.0  ...     0.0          0.0   \n",
       "3     0.0     0.0        0.0              0.0   0.0  ...     0.0          0.0   \n",
       "4     0.0     0.0        0.0              0.0   0.0  ...     0.0          0.0   \n",
       "\n",
       "   Cinderella  John Wick  Vampire in Brooklyn  Hulk  The Good Dunosaur  \\\n",
       "0         0.0        0.0                  0.0   0.0                0.0   \n",
       "1         0.0        0.0                  0.0   0.0                0.0   \n",
       "2         0.0        0.0                  0.0   0.0                0.0   \n",
       "3         0.0        0.0                  0.0   0.0                0.0   \n",
       "4         0.0        0.0                  0.0   0.0                0.0   \n",
       "\n",
       "   Trolls  Intern  Star Trek  \n",
       "0     0.0     0.0        0.0  \n",
       "1     0.0     0.0        0.0  \n",
       "2     0.0     0.0        0.0  \n",
       "3     0.0     0.0        0.0  \n",
       "4     0.0     0.0        0.0  \n",
       "\n",
       "[5 rows x 119 columns]"
      ]
     },
     "execution_count": 116,
     "metadata": {},
     "output_type": "execute_result"
    }
   ],
   "source": [
    "df_.head()"
   ]
  },
  {
   "cell_type": "code",
   "execution_count": 144,
   "metadata": {},
   "outputs": [],
   "source": [
    "def set_units(x):\n",
    "    return 1"
   ]
  },
  {
   "cell_type": "code",
   "execution_count": 159,
   "metadata": {},
   "outputs": [],
   "source": [
    "for i in range(rows):\n",
    "    df_.at[i, df.iloc[i].dropna()] = 1."
   ]
  },
  {
   "cell_type": "code",
   "execution_count": 161,
   "metadata": {},
   "outputs": [
    {
     "data": {
      "text/html": [
       "<div>\n",
       "<style scoped>\n",
       "    .dataframe tbody tr th:only-of-type {\n",
       "        vertical-align: middle;\n",
       "    }\n",
       "\n",
       "    .dataframe tbody tr th {\n",
       "        vertical-align: top;\n",
       "    }\n",
       "\n",
       "    .dataframe thead th {\n",
       "        text-align: right;\n",
       "    }\n",
       "</style>\n",
       "<table border=\"1\" class=\"dataframe\">\n",
       "  <thead>\n",
       "    <tr style=\"text-align: right;\">\n",
       "      <th></th>\n",
       "      <th>Ant Man</th>\n",
       "      <th>Mission Impossible</th>\n",
       "      <th>Spotlight</th>\n",
       "      <th>Justice League</th>\n",
       "      <th>The Revenant</th>\n",
       "      <th>Allied</th>\n",
       "      <th>Grinch</th>\n",
       "      <th>Wolverine</th>\n",
       "      <th>Captain America</th>\n",
       "      <th>Coco</th>\n",
       "      <th>...</th>\n",
       "      <th>Batman</th>\n",
       "      <th>Spiderman 3</th>\n",
       "      <th>Cinderella</th>\n",
       "      <th>John Wick</th>\n",
       "      <th>Vampire in Brooklyn</th>\n",
       "      <th>Hulk</th>\n",
       "      <th>The Good Dunosaur</th>\n",
       "      <th>Trolls</th>\n",
       "      <th>Intern</th>\n",
       "      <th>Star Trek</th>\n",
       "    </tr>\n",
       "  </thead>\n",
       "  <tbody>\n",
       "    <tr>\n",
       "      <th>0</th>\n",
       "      <td>0.0</td>\n",
       "      <td>0.0</td>\n",
       "      <td>0.0</td>\n",
       "      <td>0.0</td>\n",
       "      <td>1.0</td>\n",
       "      <td>1.0</td>\n",
       "      <td>1.0</td>\n",
       "      <td>1.0</td>\n",
       "      <td>0.0</td>\n",
       "      <td>0.0</td>\n",
       "      <td>...</td>\n",
       "      <td>0.0</td>\n",
       "      <td>1.0</td>\n",
       "      <td>0.0</td>\n",
       "      <td>1.0</td>\n",
       "      <td>0.0</td>\n",
       "      <td>0.0</td>\n",
       "      <td>1.0</td>\n",
       "      <td>0.0</td>\n",
       "      <td>0.0</td>\n",
       "      <td>0.0</td>\n",
       "    </tr>\n",
       "    <tr>\n",
       "      <th>1</th>\n",
       "      <td>0.0</td>\n",
       "      <td>0.0</td>\n",
       "      <td>0.0</td>\n",
       "      <td>0.0</td>\n",
       "      <td>0.0</td>\n",
       "      <td>0.0</td>\n",
       "      <td>0.0</td>\n",
       "      <td>0.0</td>\n",
       "      <td>0.0</td>\n",
       "      <td>0.0</td>\n",
       "      <td>...</td>\n",
       "      <td>0.0</td>\n",
       "      <td>0.0</td>\n",
       "      <td>0.0</td>\n",
       "      <td>0.0</td>\n",
       "      <td>0.0</td>\n",
       "      <td>0.0</td>\n",
       "      <td>0.0</td>\n",
       "      <td>0.0</td>\n",
       "      <td>0.0</td>\n",
       "      <td>0.0</td>\n",
       "    </tr>\n",
       "    <tr>\n",
       "      <th>2</th>\n",
       "      <td>0.0</td>\n",
       "      <td>0.0</td>\n",
       "      <td>0.0</td>\n",
       "      <td>0.0</td>\n",
       "      <td>0.0</td>\n",
       "      <td>0.0</td>\n",
       "      <td>0.0</td>\n",
       "      <td>0.0</td>\n",
       "      <td>0.0</td>\n",
       "      <td>0.0</td>\n",
       "      <td>...</td>\n",
       "      <td>0.0</td>\n",
       "      <td>0.0</td>\n",
       "      <td>0.0</td>\n",
       "      <td>0.0</td>\n",
       "      <td>0.0</td>\n",
       "      <td>0.0</td>\n",
       "      <td>0.0</td>\n",
       "      <td>0.0</td>\n",
       "      <td>0.0</td>\n",
       "      <td>0.0</td>\n",
       "    </tr>\n",
       "    <tr>\n",
       "      <th>3</th>\n",
       "      <td>0.0</td>\n",
       "      <td>0.0</td>\n",
       "      <td>0.0</td>\n",
       "      <td>0.0</td>\n",
       "      <td>0.0</td>\n",
       "      <td>1.0</td>\n",
       "      <td>0.0</td>\n",
       "      <td>0.0</td>\n",
       "      <td>0.0</td>\n",
       "      <td>0.0</td>\n",
       "      <td>...</td>\n",
       "      <td>0.0</td>\n",
       "      <td>0.0</td>\n",
       "      <td>0.0</td>\n",
       "      <td>0.0</td>\n",
       "      <td>0.0</td>\n",
       "      <td>0.0</td>\n",
       "      <td>0.0</td>\n",
       "      <td>0.0</td>\n",
       "      <td>0.0</td>\n",
       "      <td>0.0</td>\n",
       "    </tr>\n",
       "    <tr>\n",
       "      <th>4</th>\n",
       "      <td>0.0</td>\n",
       "      <td>0.0</td>\n",
       "      <td>0.0</td>\n",
       "      <td>0.0</td>\n",
       "      <td>0.0</td>\n",
       "      <td>0.0</td>\n",
       "      <td>0.0</td>\n",
       "      <td>0.0</td>\n",
       "      <td>0.0</td>\n",
       "      <td>0.0</td>\n",
       "      <td>...</td>\n",
       "      <td>0.0</td>\n",
       "      <td>0.0</td>\n",
       "      <td>0.0</td>\n",
       "      <td>1.0</td>\n",
       "      <td>0.0</td>\n",
       "      <td>0.0</td>\n",
       "      <td>0.0</td>\n",
       "      <td>0.0</td>\n",
       "      <td>0.0</td>\n",
       "      <td>0.0</td>\n",
       "    </tr>\n",
       "  </tbody>\n",
       "</table>\n",
       "<p>5 rows × 119 columns</p>\n",
       "</div>"
      ],
      "text/plain": [
       "   Ant Man  Mission Impossible  Spotlight  Justice League  The Revenant  \\\n",
       "0      0.0                 0.0        0.0             0.0           1.0   \n",
       "1      0.0                 0.0        0.0             0.0           0.0   \n",
       "2      0.0                 0.0        0.0             0.0           0.0   \n",
       "3      0.0                 0.0        0.0             0.0           0.0   \n",
       "4      0.0                 0.0        0.0             0.0           0.0   \n",
       "\n",
       "   Allied  Grinch  Wolverine  Captain America  Coco  ...  Batman  Spiderman 3  \\\n",
       "0     1.0     1.0        1.0              0.0   0.0  ...     0.0          1.0   \n",
       "1     0.0     0.0        0.0              0.0   0.0  ...     0.0          0.0   \n",
       "2     0.0     0.0        0.0              0.0   0.0  ...     0.0          0.0   \n",
       "3     1.0     0.0        0.0              0.0   0.0  ...     0.0          0.0   \n",
       "4     0.0     0.0        0.0              0.0   0.0  ...     0.0          0.0   \n",
       "\n",
       "   Cinderella  John Wick  Vampire in Brooklyn  Hulk  The Good Dunosaur  \\\n",
       "0         0.0        1.0                  0.0   0.0                1.0   \n",
       "1         0.0        0.0                  0.0   0.0                0.0   \n",
       "2         0.0        0.0                  0.0   0.0                0.0   \n",
       "3         0.0        0.0                  0.0   0.0                0.0   \n",
       "4         0.0        1.0                  0.0   0.0                0.0   \n",
       "\n",
       "   Trolls  Intern  Star Trek  \n",
       "0     0.0     0.0        0.0  \n",
       "1     0.0     0.0        0.0  \n",
       "2     0.0     0.0        0.0  \n",
       "3     0.0     0.0        0.0  \n",
       "4     0.0     0.0        0.0  \n",
       "\n",
       "[5 rows x 119 columns]"
      ]
     },
     "execution_count": 161,
     "metadata": {},
     "output_type": "execute_result"
    }
   ],
   "source": [
    "df_.head()"
   ]
  },
  {
   "cell_type": "markdown",
   "metadata": {},
   "source": [
    "### O Algoritmo Apriori\n",
    "Três elementos são essenciais para o entendimento do algoritmo Apriori. \n"
   ]
  },
  {
   "cell_type": "markdown",
   "metadata": {},
   "source": [
    "**Suporte**: é um número de vezes que o item aparece em diferentes transações dividido pelo número total de transações.\n",
    "\n",
    "$$supp(X) = \\frac{|t \\in T; X \\subseteq t|}{|T|}$$\n",
    "\n",
    "Por exemplo, podemos analisar o suporte do filme \"Jumanji\" fazendo a seguinte operação. "
   ]
  },
  {
   "cell_type": "code",
   "execution_count": 262,
   "metadata": {},
   "outputs": [],
   "source": [
    "def supp(df_,X):\n",
    "    union = np.prod(df_[X].values,axis=1)\n",
    "    return len(np.nonzero(union)[0])/df_.shape[0]"
   ]
  },
  {
   "cell_type": "code",
   "execution_count": 263,
   "metadata": {},
   "outputs": [
    {
     "data": {
      "text/plain": [
       "0.011998400213304892"
      ]
     },
     "execution_count": 263,
     "metadata": {},
     "output_type": "execute_result"
    }
   ],
   "source": [
    "supp(df_,[\"Mission Impossible\"])"
   ]
  },
  {
   "cell_type": "markdown",
   "metadata": {},
   "source": [
    "**Confiança**:é a indicação de quão frequente uma regra é verdadeira. Quanto maior a confiança, maior é chance de encontrarmos a regra no dataset. É dada por:\n",
    "\n",
    "$$conf(X \\rightarrow Y) = supp(X \\cup Y)/supp(X)$$\n",
    "\n",
    "\n",
    "Por exemplo, a confiança da regra **{Avengers} -> {Thor}** é dada por:"
   ]
  },
  {
   "cell_type": "code",
   "execution_count": 264,
   "metadata": {},
   "outputs": [],
   "source": [
    "def confidence(df_, X, Y):\n",
    "    return supp(df_,X+Y)/supp(df_,X)"
   ]
  },
  {
   "cell_type": "code",
   "execution_count": 265,
   "metadata": {},
   "outputs": [
    {
     "data": {
      "text/plain": [
       "0.16279069767441862"
      ]
     },
     "execution_count": 265,
     "metadata": {},
     "output_type": "execute_result"
    }
   ],
   "source": [
    "supp(df_,['Avengers','Thor'])/supp(df_,['Avengers'])"
   ]
  },
  {
   "cell_type": "code",
   "execution_count": 266,
   "metadata": {},
   "outputs": [
    {
     "data": {
      "text/plain": [
       "0.3773584905660377"
      ]
     },
     "execution_count": 266,
     "metadata": {},
     "output_type": "execute_result"
    }
   ],
   "source": [
    "supp(df_,['Jumanji','Wonder Woman'])/supp(df_,['Wonder Woman'])"
   ]
  },
  {
   "cell_type": "code",
   "execution_count": 267,
   "metadata": {},
   "outputs": [
    {
     "data": {
      "text/plain": [
       "0.16279069767441862"
      ]
     },
     "execution_count": 267,
     "metadata": {},
     "output_type": "execute_result"
    }
   ],
   "source": [
    "confidence(df_, ['Avengers'], ['Thor'])"
   ]
  },
  {
   "cell_type": "markdown",
   "metadata": {},
   "source": [
    "**Lift**: O lift de uma regra é definido como:  \n",
    "\n",
    "$$lift(X \\rightarrow Y): \\frac{supp(X \\cup Y)}{supp(X) \\times supp(Y)}$$\n",
    "\n",
    "* lift 1: a ocorrência de X é independente da ocorrência de Y\n",
    "\n",
    "* lift > 1: possível dependência entre X e Y,  o que faz a regra útil para predizer futuros itens\n",
    "\n",
    "* lift < 1: a presença X tem um efeito negativo na de Y, e vice-versa.\n",
    "\n",
    "\n",
    "Por exemplo, a confiança da regra **{Avengers} -> {Thor}** é dada por:"
   ]
  },
  {
   "cell_type": "code",
   "execution_count": 245,
   "metadata": {},
   "outputs": [],
   "source": [
    "def lift(df_, X, Y):\n",
    "    return supp(df_,X+Y)/(supp(df_,X)*supp(df_,Y))"
   ]
  },
  {
   "cell_type": "code",
   "execution_count": 268,
   "metadata": {},
   "outputs": [
    {
     "data": {
      "text/plain": [
       "0.0018664178109585388"
      ]
     },
     "execution_count": 268,
     "metadata": {},
     "output_type": "execute_result"
    }
   ],
   "source": [
    "supp(df_,['Avengers', 'Thor'])"
   ]
  },
  {
   "cell_type": "code",
   "execution_count": 269,
   "metadata": {},
   "outputs": [
    {
     "data": {
      "text/plain": [
       "0.0005792944000836327"
      ]
     },
     "execution_count": 269,
     "metadata": {},
     "output_type": "execute_result"
    }
   ],
   "source": [
    "(supp(df_,['Avengers'])*supp(df_,['Thor']))"
   ]
  },
  {
   "cell_type": "code",
   "execution_count": 261,
   "metadata": {},
   "outputs": [
    {
     "data": {
      "text/plain": [
       "120.0"
      ]
     },
     "execution_count": 261,
     "metadata": {},
     "output_type": "execute_result"
    }
   ],
   "source": [
    "0.06/0.0005"
   ]
  },
  {
   "cell_type": "code",
   "execution_count": 275,
   "metadata": {},
   "outputs": [
    {
     "data": {
      "text/plain": [
       "3.221881327851752"
      ]
     },
     "execution_count": 275,
     "metadata": {},
     "output_type": "execute_result"
    }
   ],
   "source": [
    "lift(df_,  ['Avengers'], ['Thor'])"
   ]
  },
  {
   "cell_type": "code",
   "execution_count": 318,
   "metadata": {},
   "outputs": [],
   "source": [
    "frequent_itemsets = apriori(df_, min_support=0.01, use_colnames=True)"
   ]
  },
  {
   "cell_type": "markdown",
   "metadata": {},
   "source": [
    "### Utilizando o algortimo apriori"
   ]
  },
  {
   "cell_type": "markdown",
   "metadata": {},
   "source": [
    "#### Visualizando itens frequentes"
   ]
  },
  {
   "cell_type": "code",
   "execution_count": 330,
   "metadata": {},
   "outputs": [
    {
     "data": {
      "text/html": [
       "<div>\n",
       "<style scoped>\n",
       "    .dataframe tbody tr th:only-of-type {\n",
       "        vertical-align: middle;\n",
       "    }\n",
       "\n",
       "    .dataframe tbody tr th {\n",
       "        vertical-align: top;\n",
       "    }\n",
       "\n",
       "    .dataframe thead th {\n",
       "        text-align: right;\n",
       "    }\n",
       "</style>\n",
       "<table border=\"1\" class=\"dataframe\">\n",
       "  <thead>\n",
       "    <tr style=\"text-align: right;\">\n",
       "      <th></th>\n",
       "      <th>support</th>\n",
       "      <th>itemsets</th>\n",
       "    </tr>\n",
       "  </thead>\n",
       "  <tbody>\n",
       "    <tr>\n",
       "      <th>0</th>\n",
       "      <td>0.010799</td>\n",
       "      <td>(Ant Man)</td>\n",
       "    </tr>\n",
       "    <tr>\n",
       "      <th>1</th>\n",
       "      <td>0.011998</td>\n",
       "      <td>(Mission Impossible)</td>\n",
       "    </tr>\n",
       "    <tr>\n",
       "      <th>2</th>\n",
       "      <td>0.095054</td>\n",
       "      <td>(Spotlight)</td>\n",
       "    </tr>\n",
       "    <tr>\n",
       "      <th>3</th>\n",
       "      <td>0.013465</td>\n",
       "      <td>(Justice League)</td>\n",
       "    </tr>\n",
       "    <tr>\n",
       "      <th>4</th>\n",
       "      <td>0.071457</td>\n",
       "      <td>(The Revenant)</td>\n",
       "    </tr>\n",
       "  </tbody>\n",
       "</table>\n",
       "</div>"
      ],
      "text/plain": [
       "    support              itemsets\n",
       "0  0.010799             (Ant Man)\n",
       "1  0.011998  (Mission Impossible)\n",
       "2  0.095054           (Spotlight)\n",
       "3  0.013465      (Justice League)\n",
       "4  0.071457        (The Revenant)"
      ]
     },
     "execution_count": 330,
     "metadata": {},
     "output_type": "execute_result"
    }
   ],
   "source": [
    "frequent_itemsets.head()"
   ]
  },
  {
   "cell_type": "markdown",
   "metadata": {},
   "source": [
    "#### Computando regras de associação utilizando o lift como métrica"
   ]
  },
  {
   "cell_type": "code",
   "execution_count": 326,
   "metadata": {},
   "outputs": [
    {
     "data": {
      "text/html": [
       "<div>\n",
       "<style scoped>\n",
       "    .dataframe tbody tr th:only-of-type {\n",
       "        vertical-align: middle;\n",
       "    }\n",
       "\n",
       "    .dataframe tbody tr th {\n",
       "        vertical-align: top;\n",
       "    }\n",
       "\n",
       "    .dataframe thead th {\n",
       "        text-align: right;\n",
       "    }\n",
       "</style>\n",
       "<table border=\"1\" class=\"dataframe\">\n",
       "  <thead>\n",
       "    <tr style=\"text-align: right;\">\n",
       "      <th></th>\n",
       "      <th>antecedents</th>\n",
       "      <th>consequents</th>\n",
       "      <th>antecedent support</th>\n",
       "      <th>consequent support</th>\n",
       "      <th>support</th>\n",
       "      <th>confidence</th>\n",
       "      <th>lift</th>\n",
       "      <th>leverage</th>\n",
       "      <th>conviction</th>\n",
       "    </tr>\n",
       "  </thead>\n",
       "  <tbody>\n",
       "    <tr>\n",
       "      <th>0</th>\n",
       "      <td>(Spotlight)</td>\n",
       "      <td>(Coco)</td>\n",
       "      <td>0.095054</td>\n",
       "      <td>0.163845</td>\n",
       "      <td>0.019864</td>\n",
       "      <td>0.208976</td>\n",
       "      <td>1.275452</td>\n",
       "      <td>0.004290</td>\n",
       "      <td>1.057054</td>\n",
       "    </tr>\n",
       "    <tr>\n",
       "      <th>1</th>\n",
       "      <td>(Spotlight)</td>\n",
       "      <td>(Ninja Turtles)</td>\n",
       "      <td>0.095054</td>\n",
       "      <td>0.238368</td>\n",
       "      <td>0.033729</td>\n",
       "      <td>0.354839</td>\n",
       "      <td>1.488616</td>\n",
       "      <td>0.011071</td>\n",
       "      <td>1.180529</td>\n",
       "    </tr>\n",
       "    <tr>\n",
       "      <th>2</th>\n",
       "      <td>(Spotlight)</td>\n",
       "      <td>(Get Out)</td>\n",
       "      <td>0.095054</td>\n",
       "      <td>0.179709</td>\n",
       "      <td>0.021730</td>\n",
       "      <td>0.228612</td>\n",
       "      <td>1.272118</td>\n",
       "      <td>0.004648</td>\n",
       "      <td>1.063395</td>\n",
       "    </tr>\n",
       "    <tr>\n",
       "      <th>3</th>\n",
       "      <td>(Spotlight)</td>\n",
       "      <td>(Tomb Rider)</td>\n",
       "      <td>0.095054</td>\n",
       "      <td>0.174110</td>\n",
       "      <td>0.025197</td>\n",
       "      <td>0.265077</td>\n",
       "      <td>1.522468</td>\n",
       "      <td>0.008647</td>\n",
       "      <td>1.123778</td>\n",
       "    </tr>\n",
       "    <tr>\n",
       "      <th>4</th>\n",
       "      <td>(Spotlight)</td>\n",
       "      <td>(Hotel Transylvania)</td>\n",
       "      <td>0.095054</td>\n",
       "      <td>0.170911</td>\n",
       "      <td>0.020131</td>\n",
       "      <td>0.211781</td>\n",
       "      <td>1.239135</td>\n",
       "      <td>0.003885</td>\n",
       "      <td>1.051852</td>\n",
       "    </tr>\n",
       "  </tbody>\n",
       "</table>\n",
       "</div>"
      ],
      "text/plain": [
       "   antecedents           consequents  antecedent support  consequent support  \\\n",
       "0  (Spotlight)                (Coco)            0.095054            0.163845   \n",
       "1  (Spotlight)       (Ninja Turtles)            0.095054            0.238368   \n",
       "2  (Spotlight)             (Get Out)            0.095054            0.179709   \n",
       "3  (Spotlight)          (Tomb Rider)            0.095054            0.174110   \n",
       "4  (Spotlight)  (Hotel Transylvania)            0.095054            0.170911   \n",
       "\n",
       "    support  confidence      lift  leverage  conviction  \n",
       "0  0.019864    0.208976  1.275452  0.004290    1.057054  \n",
       "1  0.033729    0.354839  1.488616  0.011071    1.180529  \n",
       "2  0.021730    0.228612  1.272118  0.004648    1.063395  \n",
       "3  0.025197    0.265077  1.522468  0.008647    1.123778  \n",
       "4  0.020131    0.211781  1.239135  0.003885    1.051852  "
      ]
     },
     "execution_count": 326,
     "metadata": {},
     "output_type": "execute_result"
    }
   ],
   "source": [
    "rules = association_rules(frequent_itemsets, metric=\"confidence\", min_threshold=0.2)\n",
    "rules.head()"
   ]
  },
  {
   "cell_type": "markdown",
   "metadata": {},
   "source": [
    "#### Visualizando regras com determinada confiança e lift"
   ]
  },
  {
   "cell_type": "code",
   "execution_count": 332,
   "metadata": {},
   "outputs": [
    {
     "data": {
      "text/html": [
       "<div>\n",
       "<style scoped>\n",
       "    .dataframe tbody tr th:only-of-type {\n",
       "        vertical-align: middle;\n",
       "    }\n",
       "\n",
       "    .dataframe tbody tr th {\n",
       "        vertical-align: top;\n",
       "    }\n",
       "\n",
       "    .dataframe thead th {\n",
       "        text-align: right;\n",
       "    }\n",
       "</style>\n",
       "<table border=\"1\" class=\"dataframe\">\n",
       "  <thead>\n",
       "    <tr style=\"text-align: right;\">\n",
       "      <th></th>\n",
       "      <th>antecedents</th>\n",
       "      <th>consequents</th>\n",
       "      <th>antecedent support</th>\n",
       "      <th>consequent support</th>\n",
       "      <th>support</th>\n",
       "      <th>confidence</th>\n",
       "      <th>lift</th>\n",
       "      <th>leverage</th>\n",
       "      <th>conviction</th>\n",
       "    </tr>\n",
       "  </thead>\n",
       "  <tbody>\n",
       "    <tr>\n",
       "      <th>64</th>\n",
       "      <td>(Thor)</td>\n",
       "      <td>(Ninja Turtles)</td>\n",
       "      <td>0.050527</td>\n",
       "      <td>0.238368</td>\n",
       "      <td>0.023064</td>\n",
       "      <td>0.456464</td>\n",
       "      <td>1.914955</td>\n",
       "      <td>0.011020</td>\n",
       "      <td>1.401255</td>\n",
       "    </tr>\n",
       "    <tr>\n",
       "      <th>116</th>\n",
       "      <td>(Tomb Rider, Spotlight)</td>\n",
       "      <td>(Ninja Turtles)</td>\n",
       "      <td>0.025197</td>\n",
       "      <td>0.238368</td>\n",
       "      <td>0.011465</td>\n",
       "      <td>0.455026</td>\n",
       "      <td>1.908923</td>\n",
       "      <td>0.005459</td>\n",
       "      <td>1.397557</td>\n",
       "    </tr>\n",
       "    <tr>\n",
       "      <th>119</th>\n",
       "      <td>(Jumanji, Coco)</td>\n",
       "      <td>(Ninja Turtles)</td>\n",
       "      <td>0.023064</td>\n",
       "      <td>0.238368</td>\n",
       "      <td>0.010932</td>\n",
       "      <td>0.473988</td>\n",
       "      <td>1.988472</td>\n",
       "      <td>0.005434</td>\n",
       "      <td>1.447937</td>\n",
       "    </tr>\n",
       "    <tr>\n",
       "      <th>136</th>\n",
       "      <td>(Get Out, Jumanji)</td>\n",
       "      <td>(Ninja Turtles)</td>\n",
       "      <td>0.019997</td>\n",
       "      <td>0.238368</td>\n",
       "      <td>0.010132</td>\n",
       "      <td>0.506667</td>\n",
       "      <td>2.125563</td>\n",
       "      <td>0.005365</td>\n",
       "      <td>1.543848</td>\n",
       "    </tr>\n",
       "    <tr>\n",
       "      <th>139</th>\n",
       "      <td>(Moana, Jumanji)</td>\n",
       "      <td>(Ninja Turtles)</td>\n",
       "      <td>0.021997</td>\n",
       "      <td>0.238368</td>\n",
       "      <td>0.011065</td>\n",
       "      <td>0.503030</td>\n",
       "      <td>2.110308</td>\n",
       "      <td>0.005822</td>\n",
       "      <td>1.532552</td>\n",
       "    </tr>\n",
       "    <tr>\n",
       "      <th>154</th>\n",
       "      <td>(Moana, Intern)</td>\n",
       "      <td>(Ninja Turtles)</td>\n",
       "      <td>0.023597</td>\n",
       "      <td>0.238368</td>\n",
       "      <td>0.011065</td>\n",
       "      <td>0.468927</td>\n",
       "      <td>1.967236</td>\n",
       "      <td>0.005440</td>\n",
       "      <td>1.434136</td>\n",
       "    </tr>\n",
       "  </tbody>\n",
       "</table>\n",
       "</div>"
      ],
      "text/plain": [
       "                 antecedents      consequents  antecedent support  \\\n",
       "64                    (Thor)  (Ninja Turtles)            0.050527   \n",
       "116  (Tomb Rider, Spotlight)  (Ninja Turtles)            0.025197   \n",
       "119          (Jumanji, Coco)  (Ninja Turtles)            0.023064   \n",
       "136       (Get Out, Jumanji)  (Ninja Turtles)            0.019997   \n",
       "139         (Moana, Jumanji)  (Ninja Turtles)            0.021997   \n",
       "154          (Moana, Intern)  (Ninja Turtles)            0.023597   \n",
       "\n",
       "     consequent support   support  confidence      lift  leverage  conviction  \n",
       "64             0.238368  0.023064    0.456464  1.914955  0.011020    1.401255  \n",
       "116            0.238368  0.011465    0.455026  1.908923  0.005459    1.397557  \n",
       "119            0.238368  0.010932    0.473988  1.988472  0.005434    1.447937  \n",
       "136            0.238368  0.010132    0.506667  2.125563  0.005365    1.543848  \n",
       "139            0.238368  0.011065    0.503030  2.110308  0.005822    1.532552  \n",
       "154            0.238368  0.011065    0.468927  1.967236  0.005440    1.434136  "
      ]
     },
     "execution_count": 332,
     "metadata": {},
     "output_type": "execute_result"
    }
   ],
   "source": [
    "rules[ (rules['lift'] > 1.1) &\n",
    "       (rules['confidence'] >= 0.45) ]"
   ]
  }
 ],
 "metadata": {
  "kernelspec": {
   "display_name": "Python 3",
   "language": "python",
   "name": "python3"
  },
  "language_info": {
   "codemirror_mode": {
    "name": "ipython",
    "version": 3
   },
   "file_extension": ".py",
   "mimetype": "text/x-python",
   "name": "python",
   "nbconvert_exporter": "python",
   "pygments_lexer": "ipython3",
   "version": "3.7.3"
  }
 },
 "nbformat": 4,
 "nbformat_minor": 2
}
